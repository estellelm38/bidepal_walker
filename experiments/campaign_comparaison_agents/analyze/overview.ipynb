{
 "cells": [
  {
   "cell_type": "markdown",
   "metadata": {},
   "source": [
    "# Intro"
   ]
  },
  {
   "cell_type": "code",
   "execution_count": 1,
   "metadata": {
    "code_folding": [],
    "scrolled": false
   },
   "outputs": [
    {
     "data": {
      "application/vnd.jupyter.widget-view+json": {
       "model_id": "077ab3806f35446791ea2a69d6be31cf",
       "version_major": 2,
       "version_minor": 0
      },
      "text/plain": [
       "ExperimentDataLoaderWidget(children=(Box(children=(Button(description='Update Descriptions', layout=Layout(hei…"
      ]
     },
     "metadata": {},
     "output_type": "display_data"
    },
    {
     "name": "stderr",
     "output_type": "stream",
     "text": [
      "/home/estelle/miniconda3/envs/rlnavenv/lib/python3.8/site-packages/exputils/data/loading.py:185: UserWarning: Could not find data for repetition 0 of experiment '000006' ('../experiments/experiment_000006'). Skipped ...\n",
      "  warnings.warn('Could not find data for repetition {} of experiment {!r} ({!r}). Skipped ...'.format(rep_id, exp_id, exp_descr['directory']))\n",
      "/home/estelle/miniconda3/envs/rlnavenv/lib/python3.8/site-packages/exputils/data/loading.py:185: UserWarning: Could not find data for repetition 1 of experiment '000006' ('../experiments/experiment_000006'). Skipped ...\n",
      "  warnings.warn('Could not find data for repetition {} of experiment {!r} ({!r}). Skipped ...'.format(rep_id, exp_id, exp_descr['directory']))\n",
      "/home/estelle/miniconda3/envs/rlnavenv/lib/python3.8/site-packages/exputils/data/loading.py:185: UserWarning: Could not find data for repetition 2 of experiment '000006' ('../experiments/experiment_000006'). Skipped ...\n",
      "  warnings.warn('Could not find data for repetition {} of experiment {!r} ({!r}). Skipped ...'.format(rep_id, exp_id, exp_descr['directory']))\n"
     ]
    }
   ],
   "source": [
    "# load data\n",
    "\n",
    "# import the experiment utilities package\n",
    "import exputils as eu\n",
    "import numpy as np\n",
    "from comm import create_comm\n",
    "\n",
    "# create an experiment data loader, by default it will load data from '../experiments'\n",
    "experiment_data_loader = eu.gui.jupyter.ExperimentDataLoaderWidget()\n",
    "display(experiment_data_loader)\n",
    "experiment_data_loader.load_data()\n",
    "\n",
    "# experiment data selection plotter that takes as input the data loader to plot its loaded data\n",
    "experiment_data_plotter = eu.gui.jupyter.ExperimentDataPlotSelectionWidget(experiment_data_loader)\n",
    "#display(experiment_data_plotter)"
   ]
  },
  {
   "cell_type": "markdown",
   "metadata": {},
   "source": [
    "# Performance Measurement"
   ]
  },
  {
   "cell_type": "code",
   "execution_count": 2,
   "metadata": {
    "scrolled": false
   },
   "outputs": [
    {
     "data": {
      "application/vnd.jupyter.widget-view+json": {
       "model_id": "634e4bb4b37645739788d11e34183ec9",
       "version_major": 2,
       "version_minor": 0
      },
      "text/plain": [
       "Output()"
      ]
     },
     "metadata": {},
     "output_type": "display_data"
    },
    {
     "data": {
      "application/vnd.jupyter.widget-view+json": {
       "model_id": "9e45a1d9753244b08fa6a3c4556c5ba0",
       "version_major": 2,
       "version_minor": 0
      },
      "text/plain": [
       "ExperimentDataPlotSelectionWidget(children=(HBox(children=(Label(value='Experiments:', layout=Layout(min_width…"
      ]
     },
     "metadata": {},
     "output_type": "display_data"
    }
   ],
   "source": [
    "moving_avg = 100\n",
    "\n",
    "\n",
    "import exputils as eu\n",
    "from exputils.gui.jupyter.plotly_meanstd_scatter import plotly_meanstd_scatter\n",
    "\n",
    "plot_config = eu.AttrDict(\n",
    "layout = dict(xaxis = dict(title = 'Epoch'),yaxis = dict(title = 'reward_per_episode'),),moving_average = dict(n=moving_avg))\n",
    "selection_widget = eu.gui.jupyter.ExperimentDataPlotSelectionWidget(experiment_data_loader, datasources=['reward_per_episode'], experiment_ids='all', repetition_ids='all', output_format=('S', 'E', 'D'), data_filter='', plot_function=plotly_meanstd_scatter, plot_function_config=plot_config, state_backup_name='state_backup_35894867', state_backup_variable_filter=['experiment_ids', 'repetition_ids'], is_datasources_selection=False, is_output_format_selection=False, is_data_filter_selection=False, is_plot_function_selection=False, is_plot_function_config_editor=False, is_code_producer=False)\n",
    "selection_widget.plot_data()\n",
    "display(selection_widget)\n",
    "\n"
   ]
  },
  {
   "cell_type": "code",
   "execution_count": null,
   "metadata": {},
   "outputs": [],
   "source": []
  },
  {
   "cell_type": "code",
   "execution_count": null,
   "metadata": {},
   "outputs": [],
   "source": []
  }
 ],
 "metadata": {
  "kernelspec": {
   "display_name": "rlnavenv",
   "language": "python",
   "name": "rlnavenv"
  },
  "language_info": {
   "codemirror_mode": {
    "name": "ipython",
    "version": 3
   },
   "file_extension": ".py",
   "mimetype": "text/x-python",
   "name": "python",
   "nbconvert_exporter": "python",
   "pygments_lexer": "ipython3",
   "version": "3.8.18"
  }
 },
 "nbformat": 4,
 "nbformat_minor": 4
}
