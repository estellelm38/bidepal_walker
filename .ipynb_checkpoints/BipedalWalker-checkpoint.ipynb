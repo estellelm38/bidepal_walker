{
 "cells": [
  {
   "cell_type": "markdown",
   "id": "dd6caa0a",
   "metadata": {
    "toc": true
   },
   "source": [
    "<h1>Table of Contents<span class=\"tocSkip\"></span></h1>\n",
    "<div class=\"toc\"><ul class=\"toc-item\"><li><span><a href=\"#Install-dependencies\" data-toc-modified-id=\"Install-dependencies-1\"><span class=\"toc-item-num\">1&nbsp;&nbsp;</span>Install dependencies</a></span></li><li><span><a href=\"#Environment\" data-toc-modified-id=\"Environment-2\"><span class=\"toc-item-num\">2&nbsp;&nbsp;</span>Environment</a></span></li><li><span><a href=\"#Test\" data-toc-modified-id=\"Test-3\"><span class=\"toc-item-num\">3&nbsp;&nbsp;</span>Test</a></span></li><li><span><a href=\"#Train-Model\" data-toc-modified-id=\"Train-Model-4\"><span class=\"toc-item-num\">4&nbsp;&nbsp;</span>Train Model</a></span></li><li><span><a href=\"#Save-Model\" data-toc-modified-id=\"Save-Model-5\"><span class=\"toc-item-num\">5&nbsp;&nbsp;</span>Save Model</a></span></li><li><span><a href=\"#Evaluate-&amp;-Test\" data-toc-modified-id=\"Evaluate-&amp;-Test-6\"><span class=\"toc-item-num\">6&nbsp;&nbsp;</span>Evaluate &amp; Test</a></span></li></ul></div>"
   ]
  },
  {
   "cell_type": "markdown",
   "id": "f4b65162",
   "metadata": {},
   "source": [
    "## Install dependencies"
   ]
  },
  {
   "cell_type": "code",
   "execution_count": null,
   "id": "6f085338",
   "metadata": {},
   "outputs": [],
   "source": [
    "!pip install gym[box2d] pyglet==1.3.2"
   ]
  },
  {
   "cell_type": "code",
   "execution_count": null,
   "id": "938beb70",
   "metadata": {},
   "outputs": [],
   "source": [
    "import gym\n",
    "from stable_baselines3 import PPO\n",
    "from stable_baselines3.common.vec_env import VecFrameStack\n",
    "from stable_baselines3.common.evaluation import evaluate_policy\n",
    "from gym.wrappers import TimeLimit\n",
    "import os"
   ]
  },
  {
   "cell_type": "markdown",
   "id": "0e1409ca",
   "metadata": {},
   "source": [
    "## Environment"
   ]
  },
  {
   "cell_type": "code",
   "execution_count": null,
   "id": "5f90a69c",
   "metadata": {},
   "outputs": [],
   "source": [
    "environment_name = \"BipedalWalker-v3\"\n",
    "env = gym.make(environment_name, render_mode=\"human\")\n",
    "env = TimeLimit(env, max_episode_steps=600)\n",
    "env.reset()\n",
    "env.render()"
   ]
  },
  {
   "cell_type": "code",
   "execution_count": null,
   "id": "672be4e2",
   "metadata": {
    "scrolled": true
   },
   "outputs": [],
   "source": [
    "print(\"action space:{}\".format(env.action_space))\n",
    "print(\"observation space:{}\".format(env.observation_space))"
   ]
  },
  {
   "cell_type": "code",
   "execution_count": null,
   "id": "55f7ab60",
   "metadata": {},
   "outputs": [],
   "source": [
    "#env??"
   ]
  },
  {
   "cell_type": "code",
   "execution_count": null,
   "id": "f2da8fe4",
   "metadata": {},
   "outputs": [],
   "source": [
    "#env = gym.make(environment_name, render_mode=\"rgb_array\")"
   ]
  },
  {
   "cell_type": "markdown",
   "id": "c6802a9e",
   "metadata": {},
   "source": [
    "## Test"
   ]
  },
  {
   "cell_type": "code",
   "execution_count": null,
   "id": "148bb209",
   "metadata": {
    "scrolled": true
   },
   "outputs": [],
   "source": [
    "'''episodes = 100\n",
    "for episode in range(1, episodes + 1):\n",
    "    \n",
    "    state = env.reset()\n",
    "    done = False\n",
    "    truncated = False\n",
    "    \n",
    "    step = 0\n",
    "    score = 0 \n",
    "\n",
    "    while not done and not truncated :\n",
    "        env.render()\n",
    "        action = env.action_space.sample()\n",
    "        n_state, reward, done, truncated, info = env.step(action)\n",
    "        score += reward\n",
    "        step += 1\n",
    "            \n",
    "    print('Episode:{} Score:{}'.format(episode, score))\n",
    "env.close()'''"
   ]
  },
  {
   "cell_type": "code",
   "execution_count": null,
   "id": "8a61c509",
   "metadata": {},
   "outputs": [],
   "source": [
    "#env.action_space.sample()"
   ]
  },
  {
   "cell_type": "code",
   "execution_count": null,
   "id": "46a9e082",
   "metadata": {},
   "outputs": [],
   "source": [
    "#env.observation_space.sample()"
   ]
  },
  {
   "cell_type": "markdown",
   "id": "48416f3a",
   "metadata": {},
   "source": [
    "## Train Model"
   ]
  },
  {
   "cell_type": "code",
   "execution_count": null,
   "id": "d8dbb6b8",
   "metadata": {},
   "outputs": [],
   "source": [
    "log_path = os.path.join('Training_walker_PPO', 'Logs_walker_PPO')"
   ]
  },
  {
   "cell_type": "code",
   "execution_count": null,
   "id": "870f7f56",
   "metadata": {},
   "outputs": [],
   "source": [
    "#env = TimeLimit(env, max_episode_steps=600)"
   ]
  },
  {
   "cell_type": "code",
   "execution_count": null,
   "id": "00031377",
   "metadata": {
    "scrolled": false
   },
   "outputs": [],
   "source": [
    "model = PPO('MlpPolicy', env, verbose=1, tensorboard_log=log_path)"
   ]
  },
  {
   "cell_type": "code",
   "execution_count": null,
   "id": "23fca0ef",
   "metadata": {
    "scrolled": true
   },
   "outputs": [],
   "source": [
    "model.learn(total_timesteps=100000)"
   ]
  },
  {
   "cell_type": "markdown",
   "id": "70cc0b38",
   "metadata": {},
   "source": [
    "## Save Model"
   ]
  },
  {
   "cell_type": "code",
   "execution_count": null,
   "id": "0f1c4220",
   "metadata": {},
   "outputs": [],
   "source": [
    "ppo_path = os.path.join('Training_walker_PPO', 'Saved Models_walker_PPO', 'PPO_Walking_model')"
   ]
  },
  {
   "cell_type": "code",
   "execution_count": null,
   "id": "9ba46ec7",
   "metadata": {},
   "outputs": [],
   "source": [
    "model.save(ppo_path)"
   ]
  },
  {
   "cell_type": "markdown",
   "id": "b6309b46",
   "metadata": {},
   "source": [
    "## Evaluate & Test"
   ]
  },
  {
   "cell_type": "code",
   "execution_count": null,
   "id": "febd81dc",
   "metadata": {
    "scrolled": true
   },
   "outputs": [],
   "source": [
    "#evaluate_policy(model, env, n_eval_episodes=10, render=True)"
   ]
  },
  {
   "cell_type": "code",
   "execution_count": null,
   "id": "d2905756",
   "metadata": {},
   "outputs": [],
   "source": [
    "env.close()"
   ]
  },
  {
   "cell_type": "code",
   "execution_count": null,
   "id": "3ff41a60",
   "metadata": {
    "scrolled": true
   },
   "outputs": [],
   "source": [
    "'''obs = env.reset()\n",
    "while True:\n",
    "    action, _states = model.predict(obs)\n",
    "    obs, rewards, dones, info = env.step(action)\n",
    "    env.render()'''"
   ]
  },
  {
   "cell_type": "code",
   "execution_count": null,
   "id": "8eeb0fae",
   "metadata": {},
   "outputs": [],
   "source": [
    "#env.close()"
   ]
  }
 ],
 "metadata": {
  "kernelspec": {
   "display_name": "rlnavenv",
   "language": "python",
   "name": "rlnavenv"
  },
  "language_info": {
   "codemirror_mode": {
    "name": "ipython",
    "version": 3
   },
   "file_extension": ".py",
   "mimetype": "text/x-python",
   "name": "python",
   "nbconvert_exporter": "python",
   "pygments_lexer": "ipython3",
   "version": "3.8.18"
  },
  "toc": {
   "base_numbering": 1,
   "nav_menu": {},
   "number_sections": true,
   "sideBar": true,
   "skip_h1_title": false,
   "title_cell": "Table of Contents",
   "title_sidebar": "Contents",
   "toc_cell": true,
   "toc_position": {},
   "toc_section_display": true,
   "toc_window_display": false
  }
 },
 "nbformat": 4,
 "nbformat_minor": 5
}
