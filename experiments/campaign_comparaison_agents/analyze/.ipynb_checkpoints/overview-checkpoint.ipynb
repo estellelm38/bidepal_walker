{
 "cells": [
  {
   "cell_type": "markdown",
   "metadata": {},
   "source": [
    "# Intro"
   ]
  },
  {
   "cell_type": "code",
   "execution_count": 2,
   "metadata": {
    "code_folding": [],
    "scrolled": false
   },
   "outputs": [
    {
     "ename": "FileNotFoundError",
     "evalue": "Can't identify the notebook name.",
     "output_type": "error",
     "traceback": [
      "\u001b[0;31m---------------------------------------------------------------------------\u001b[0m",
      "\u001b[0;31mFileNotFoundError\u001b[0m                         Traceback (most recent call last)",
      "\u001b[1;32m/home/estelle/robotlearn/internship/experiments/campaign_dqn/analyze/.ipynb_checkpoints/overview-checkpoint.ipynb Cell 2\u001b[0m line \u001b[0;36m8\n\u001b[1;32m      <a href='vscode-notebook-cell://wsl%2Bubuntu/home/estelle/robotlearn/internship/experiments/campaign_dqn/analyze/.ipynb_checkpoints/overview-checkpoint.ipynb#W1sdnNjb2RlLXJlbW90ZQ%3D%3D?line=4'>5</a>\u001b[0m \u001b[39mimport\u001b[39;00m \u001b[39mnumpy\u001b[39;00m \u001b[39mas\u001b[39;00m \u001b[39mnp\u001b[39;00m\n\u001b[1;32m      <a href='vscode-notebook-cell://wsl%2Bubuntu/home/estelle/robotlearn/internship/experiments/campaign_dqn/analyze/.ipynb_checkpoints/overview-checkpoint.ipynb#W1sdnNjb2RlLXJlbW90ZQ%3D%3D?line=6'>7</a>\u001b[0m \u001b[39m# create an experiment data loader, by default it will load data from '../experiments'\u001b[39;00m\n\u001b[0;32m----> <a href='vscode-notebook-cell://wsl%2Bubuntu/home/estelle/robotlearn/internship/experiments/campaign_dqn/analyze/.ipynb_checkpoints/overview-checkpoint.ipynb#W1sdnNjb2RlLXJlbW90ZQ%3D%3D?line=7'>8</a>\u001b[0m experiment_data_loader \u001b[39m=\u001b[39m eu\u001b[39m.\u001b[39;49mgui\u001b[39m.\u001b[39;49mjupyter\u001b[39m.\u001b[39;49mExperimentDataLoaderWidget()\n\u001b[1;32m      <a href='vscode-notebook-cell://wsl%2Bubuntu/home/estelle/robotlearn/internship/experiments/campaign_dqn/analyze/.ipynb_checkpoints/overview-checkpoint.ipynb#W1sdnNjb2RlLXJlbW90ZQ%3D%3D?line=8'>9</a>\u001b[0m display(experiment_data_loader)\n\u001b[1;32m     <a href='vscode-notebook-cell://wsl%2Bubuntu/home/estelle/robotlearn/internship/experiments/campaign_dqn/analyze/.ipynb_checkpoints/overview-checkpoint.ipynb#W1sdnNjb2RlLXJlbW90ZQ%3D%3D?line=9'>10</a>\u001b[0m experiment_data_loader\u001b[39m.\u001b[39mload_data()\n",
      "File \u001b[0;32m~/miniconda3/envs/rlnavenv/lib/python3.8/site-packages/exputils/gui/jupyter/experiment_data_loader_widget.py:169\u001b[0m, in \u001b[0;36mExperimentDataLoaderWidget.__init__\u001b[0;34m(self, config, **kwargs)\u001b[0m\n\u001b[1;32m    166\u001b[0m \u001b[39mself\u001b[39m\u001b[39m.\u001b[39m_on_experiment_data_loaded_event_handlers \u001b[39m=\u001b[39m []\n\u001b[1;32m    167\u001b[0m \u001b[39mself\u001b[39m\u001b[39m.\u001b[39m_on_experiment_descriptions_updated_event_handlers \u001b[39m=\u001b[39m []\n\u001b[0;32m--> 169\u001b[0m \u001b[39mself\u001b[39;49m\u001b[39m.\u001b[39;49mload_state_backup()\n\u001b[1;32m    171\u001b[0m \u001b[39mself\u001b[39m\u001b[39m.\u001b[39mupdate_experiment_descriptions()\n\u001b[1;32m    173\u001b[0m \u001b[39m# create gui elements\u001b[39;00m\n",
      "File \u001b[0;32m~/miniconda3/envs/rlnavenv/lib/python3.8/site-packages/exputils/gui/jupyter/base_widget.py:62\u001b[0m, in \u001b[0;36mBaseWidget.load_state_backup\u001b[0;34m(self)\u001b[0m\n\u001b[1;32m     60\u001b[0m \u001b[39mdef\u001b[39;00m \u001b[39mload_state_backup\u001b[39m(\u001b[39mself\u001b[39m):\n\u001b[1;32m     61\u001b[0m     \u001b[39mif\u001b[39;00m \u001b[39mself\u001b[39m\u001b[39m.\u001b[39mconfig\u001b[39m.\u001b[39mis_use_state_backup:\n\u001b[0;32m---> 62\u001b[0m         state_backup \u001b[39m=\u001b[39m eu\u001b[39m.\u001b[39;49mgui\u001b[39m.\u001b[39;49mjupyter\u001b[39m.\u001b[39;49mload_config(\u001b[39mself\u001b[39;49m\u001b[39m.\u001b[39;49mstate_backup_name)\n\u001b[1;32m     63\u001b[0m         \u001b[39mif\u001b[39;00m state_backup:\n\u001b[1;32m     64\u001b[0m             state_backup \u001b[39m=\u001b[39m \u001b[39mself\u001b[39m\u001b[39m.\u001b[39m_filter_state(state_backup)\n",
      "File \u001b[0;32m~/miniconda3/envs/rlnavenv/lib/python3.8/site-packages/exputils/gui/jupyter/misc.py:73\u001b[0m, in \u001b[0;36mload_config\u001b[0;34m(name, directory, profile)\u001b[0m\n\u001b[1;32m     62\u001b[0m \u001b[39m\u001b[39m\u001b[39m'''\u001b[39;00m\n\u001b[1;32m     63\u001b[0m \u001b[39mLoads a configuration that is stored as JSON file as a AttrDict (dictionary).\u001b[39;00m\n\u001b[1;32m     64\u001b[0m \u001b[39mReturn an empty AttrDict (dictionary) if the configuration does not exists.\u001b[39;00m\n\u001b[0;32m   (...)\u001b[0m\n\u001b[1;32m     69\u001b[0m \u001b[39m:return: AttrDict (dictionary) with config.\u001b[39;00m\n\u001b[1;32m     70\u001b[0m \u001b[39m'''\u001b[39;00m\n\u001b[1;32m     72\u001b[0m \u001b[39mif\u001b[39;00m directory \u001b[39mis\u001b[39;00m \u001b[39mNone\u001b[39;00m: directory \u001b[39m=\u001b[39m eu\u001b[39m.\u001b[39mgui\u001b[39m.\u001b[39mjupyter\u001b[39m.\u001b[39mDEFAULT_CONFIG_DIRECTORY\n\u001b[0;32m---> 73\u001b[0m \u001b[39mif\u001b[39;00m profile \u001b[39mis\u001b[39;00m \u001b[39mNone\u001b[39;00m: profile \u001b[39m=\u001b[39m ipynbname\u001b[39m.\u001b[39;49mname()\n\u001b[1;32m     75\u001b[0m filepath \u001b[39m=\u001b[39m os\u001b[39m.\u001b[39mpath\u001b[39m.\u001b[39mjoin(directory, profile, name \u001b[39m+\u001b[39m \u001b[39m'\u001b[39m\u001b[39m.json\u001b[39m\u001b[39m'\u001b[39m)\n\u001b[1;32m     77\u001b[0m \u001b[39mtry\u001b[39;00m:\n",
      "File \u001b[0;32m~/miniconda3/envs/rlnavenv/lib/python3.8/site-packages/ipynbname/__init__.py:96\u001b[0m, in \u001b[0;36mname\u001b[0;34m()\u001b[0m\n\u001b[1;32m     94\u001b[0m \u001b[39mif\u001b[39;00m path:\n\u001b[1;32m     95\u001b[0m     \u001b[39mreturn\u001b[39;00m path\u001b[39m.\u001b[39mstem\n\u001b[0;32m---> 96\u001b[0m \u001b[39mraise\u001b[39;00m \u001b[39mFileNotFoundError\u001b[39;00m(FILE_ERROR\u001b[39m.\u001b[39mformat(\u001b[39m'\u001b[39m\u001b[39mname\u001b[39m\u001b[39m'\u001b[39m))\n",
      "\u001b[0;31mFileNotFoundError\u001b[0m: Can't identify the notebook name."
     ]
    }
   ],
   "source": [
    "# load data\n",
    "\n",
    "# import the experiment utilities package\n",
    "import exputils as eu\n",
    "import numpy as np\n",
    "\n",
    "# create an experiment data loader, by default it will load data from '../experiments'\n",
    "experiment_data_loader = eu.gui.jupyter.ExperimentDataLoaderWidget()\n",
    "display(experiment_data_loader)\n",
    "experiment_data_loader.load_data()\n",
    "\n",
    "# experiment data selection plotter that takes as input the data loader to plot its loaded data\n",
    "experiment_data_plotter = eu.gui.jupyter.ExperimentDataPlotSelectionWidget(experiment_data_loader)\n",
    "#display(experiment_data_plotter)"
   ]
  },
  {
   "cell_type": "markdown",
   "metadata": {},
   "source": [
    "# Performance Measurement"
   ]
  },
  {
   "cell_type": "code",
   "execution_count": null,
   "metadata": {
    "scrolled": false
   },
   "outputs": [
    {
     "data": {
      "application/vnd.jupyter.widget-view+json": {
       "model_id": "bbefccc053754f6dbea54f075e5ea6db",
       "version_major": 2,
       "version_minor": 0
      },
      "text/plain": [
       "Output()"
      ]
     },
     "metadata": {},
     "output_type": "display_data"
    }
   ],
   "source": [
    "moving_avg = 1000\n",
    "\n",
    "\n",
    "import exputils as eu\n",
    "from exputils.gui.jupyter.plotly_meanstd_scatter import plotly_meanstd_scatter\n",
    "\n",
    "plot_config = eu.AttrDict(\n",
    "layout = dict(xaxis = dict(title = 'Epoch'),yaxis = dict(title = 'Loss'),),moving_average = dict(n=moving_avg))\n",
    "selection_widget = eu.gui.jupyter.ExperimentDataPlotSelectionWidget(experiment_data_loader, datasources=['data_loss'], experiment_ids='all', repetition_ids='all', output_format=('S', 'E', 'D'), data_filter='', plot_function=plotly_meanstd_scatter, plot_function_config=plot_config, state_backup_name='state_backup_35894867', state_backup_variable_filter=['experiment_ids', 'repetition_ids'], is_datasources_selection=False, is_output_format_selection=False, is_data_filter_selection=False, is_plot_function_selection=False, is_plot_function_config_editor=False, is_code_producer=False)\n",
    "selection_widget.plot_data()\n",
    "display(selection_widget)\n",
    "\n"
   ]
  }
 ],
 "metadata": {
  "kernelspec": {
   "display_name": "rlnavenv",
   "language": "python",
   "name": "python3"
  },
  "language_info": {
   "codemirror_mode": {
    "name": "ipython",
    "version": 3
   },
   "file_extension": ".py",
   "mimetype": "text/x-python",
   "name": "python",
   "nbconvert_exporter": "python",
   "pygments_lexer": "ipython3",
   "version": "3.8.18"
  }
 },
 "nbformat": 4,
 "nbformat_minor": 4
}
